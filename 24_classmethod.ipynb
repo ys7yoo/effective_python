{
 "cells": [
  {
   "cell_type": "markdown",
   "metadata": {
    "colab_type": "text",
    "id": "view-in-github"
   },
   "source": [
    "<a href=\"https://colab.research.google.com/github/ys7yoo/effective_python/blob/master/24_classmethod.ipynb\" target=\"_parent\"><img src=\"https://colab.research.google.com/assets/colab-badge.svg\" alt=\"Open In Colab\"/></a>"
   ]
  },
  {
   "cell_type": "markdown",
   "metadata": {
    "colab_type": "text",
    "id": "GTT2Gp3_0b8q"
   },
   "source": [
    "# Item 24: Use @classmethod Polymorphism to Construct Objects Generaically"
   ]
  },
  {
   "cell_type": "code",
   "execution_count": 1,
   "metadata": {
    "colab": {
     "base_uri": "https://localhost:8080/",
     "height": 52
    },
    "colab_type": "code",
    "id": "N2kjWJYP0LVB",
    "outputId": "a4496644-51fd-463c-d2f1-50271f017556"
   },
   "outputs": [],
   "source": [
    "# preamble to mimick book environment\n",
    "import logging\n",
    "from pprint import pprint\n",
    "from sys import stdout as STDOUT\n",
    "\n",
    "from tempfile import TemporaryDirectory\n",
    "import random\n",
    "\n",
    "# generate random data files\n",
    "def write_test_files(tmpdir):\n",
    "    for i in range(100):\n",
    "        with open(os.path.join(tmpdir, str(i)), 'w') as f:\n",
    "            f.write('\\n' * random.randint(0, 100))"
   ]
  },
  {
   "cell_type": "markdown",
   "metadata": {
    "colab": {
     "base_uri": "https://localhost:8080/",
     "height": 52
    },
    "colab_type": "code",
    "id": "N2kjWJYP0LVB",
    "outputId": "a4496644-51fd-463c-d2f1-50271f017556"
   },
   "source": [
    "## First implementation using polymorphism"
   ]
  },
  {
   "cell_type": "code",
   "execution_count": 2,
   "metadata": {
    "colab": {
     "base_uri": "https://localhost:8080/",
     "height": 52
    },
    "colab_type": "code",
    "id": "N2kjWJYP0LVB",
    "outputId": "a4496644-51fd-463c-d2f1-50271f017556"
   },
   "outputs": [],
   "source": [
    "# a common class to represent the input data\n",
    "class InputData(object):\n",
    "    def read(self):\n",
    "        raise NotImplementedError\n",
    "\n",
    "        \n",
    "# a concrete subclass of InputData that reads data from a file on disk\n",
    "class PathInputData(InputData):\n",
    "    def __init__(self, path):\n",
    "        super().__init__()\n",
    "        self.path = path\n",
    "\n",
    "    def read(self):\n",
    "        return open(self.path).read()\n",
    "\n",
    "    \n",
    "# an abstract class for MapReduce worker that consumes the input data \n",
    "class Worker(object):\n",
    "    def __init__(self, input_data):\n",
    "        self.input_data = input_data\n",
    "        self.result = None\n",
    "\n",
    "    def map(self):\n",
    "        raise NotImplementedError\n",
    "\n",
    "    def reduce(self, other):\n",
    "        raise NotImplementedError\n",
    "\n",
    "\n",
    "# a concrete subclass of Worker: a newline counter\n",
    "class LineCountWorker(Worker):\n",
    "    def map(self):\n",
    "        data = self.input_data.read()\n",
    "        self.result = data.count('\\n')\n",
    "\n",
    "    def reduce(self, other):\n",
    "        self.result += other.result"
   ]
  },
  {
   "cell_type": "markdown",
   "metadata": {},
   "source": [
    "## How to construct objects?\n",
    "\n",
    "Manually build and connect objects with some helper functions."
   ]
  },
  {
   "cell_type": "code",
   "execution_count": 3,
   "metadata": {
    "colab": {
     "base_uri": "https://localhost:8080/",
     "height": 52
    },
    "colab_type": "code",
    "id": "N2kjWJYP0LVB",
    "outputId": "a4496644-51fd-463c-d2f1-50271f017556"
   },
   "outputs": [
    {
     "name": "stdout",
     "output_type": "stream",
     "text": [
      "/var/folders/bc/tll0j51s10j6g0fh4sd1_b5h0000gn/T/tmpqi2pmsez\n",
      "There are 5059 lines\n"
     ]
    }
   ],
   "source": [
    "import os\n",
    "\n",
    "def generate_path_inputs(data_dir):\n",
    "    for name in os.listdir(data_dir):\n",
    "        yield PathInputData(os.path.join(data_dir, name)) # return a generator\n",
    "\n",
    "\n",
    "# create LineCounterWorker instances \n",
    "def create_line_count_workers(input_list):\n",
    "    workers = []\n",
    "    for input_data in input_list:\n",
    "        workers.append(LineCountWorker(input_data))\n",
    "    return workers\n",
    "\n",
    "\n",
    "# multi-thread implementation \n",
    "from threading import Thread\n",
    "\n",
    "def execute(workers):\n",
    "    threads = [Thread(target=w.map) for w in workers]\n",
    "    for thread in threads: thread.start()\n",
    "    for thread in threads: thread.join()\n",
    "\n",
    "    first, rest = workers[0], workers[1:]\n",
    "    for worker in rest:\n",
    "        first.reduce(worker)\n",
    "    return first.result\n",
    "\n",
    "\n",
    "# mapreduce for PathInputData using LineCountWorker\n",
    "def mapreduce(data_dir):\n",
    "    inputs = generate_path_inputs(data_dir)\n",
    "    workers = create_line_count_workers(inputs)\n",
    "    return execute(workers)\n",
    "\n",
    "\n",
    "# the caller is here\n",
    "with TemporaryDirectory() as tmpdir:\n",
    "    print(tmpdir)\n",
    "    \n",
    "    write_test_files(tmpdir)\n",
    "    \n",
    "    result = mapreduce(tmpdir)\n",
    "\n",
    "print('There are', result, 'lines')"
   ]
  },
  {
   "cell_type": "markdown",
   "metadata": {},
   "source": [
    "## Problem: `mapreduce` function is NOT generic\n",
    "\n",
    "For another `InputData` or `Worker` subclass, your need new `generate_*_inputs`, `create_*_workers`, and `mapreduce` functions. "
   ]
  },
  {
   "cell_type": "markdown",
   "metadata": {},
   "source": [
    "## Beter way: use @classmethod polymorphism"
   ]
  },
  {
   "cell_type": "code",
   "execution_count": 4,
   "metadata": {
    "colab": {
     "base_uri": "https://localhost:8080/",
     "height": 52
    },
    "colab_type": "code",
    "id": "N2kjWJYP0LVB",
    "outputId": "a4496644-51fd-463c-d2f1-50271f017556"
   },
   "outputs": [
    {
     "name": "stdout",
     "output_type": "stream",
     "text": [
      "/var/folders/bc/tll0j51s10j6g0fh4sd1_b5h0000gn/T/tmpjytnahnp\n",
      "There are 4622 lines\n"
     ]
    }
   ],
   "source": [
    "# a generic base class for InputData\n",
    "class GenericInputData(object):\n",
    "    def read(self):\n",
    "        raise NotImplementedError\n",
    "\n",
    "    @classmethod\n",
    "    def generate_inputs(cls, config):\n",
    "        raise NotImplementedError\n",
    "\n",
    "\n",
    "# a concrete subclass of the GenericInputData\n",
    "class PathInputData(GenericInputData):\n",
    "    def __init__(self, path):\n",
    "        super().__init__()\n",
    "        self.path = path\n",
    "\n",
    "    def read(self):\n",
    "        return open(self.path).read()\n",
    "\n",
    "    @classmethod\n",
    "    def generate_inputs(cls, config):\n",
    "        data_dir = config['data_dir']\n",
    "        for name in os.listdir(data_dir):\n",
    "            yield cls(os.path.join(data_dir, name))\n",
    "\n",
    "\n",
    "# a generic base class for workers\n",
    "class GenericWorker(object):\n",
    "    def __init__(self, input_data):\n",
    "        self.input_data = input_data\n",
    "        self.result = None\n",
    "\n",
    "    def map(self):\n",
    "        raise NotImplementedError\n",
    "\n",
    "    def reduce(self, other):\n",
    "        raise NotImplementedError\n",
    "\n",
    "    @classmethod\n",
    "    def create_workers(cls, input_class, config):\n",
    "        workers = []\n",
    "        for input_data in input_class.generate_inputs(config):\n",
    "            workers.append(cls(input_data))\n",
    "        return workers\n",
    "\n",
    "\n",
    "# a concrete subclass of the GenericWorker: a line counter\n",
    "class LineCountWorker(GenericWorker):\n",
    "    def map(self):\n",
    "        data = self.input_data.read()\n",
    "        self.result = data.count('\\n')\n",
    "\n",
    "    def reduce(self, other):\n",
    "        self.result += other.result\n",
    "\n",
    "\n",
    "# a generic mapreduce\n",
    "def mapreduce(worker_class, input_class, config):\n",
    "    workers = worker_class.create_workers(input_class, config)\n",
    "    return execute(workers)\n",
    "\n",
    "\n",
    "# use the generic function\n",
    "with TemporaryDirectory() as tmpdir:\n",
    "    print(tmpdir)\n",
    "    write_test_files(tmpdir)\n",
    "    \n",
    "    config = {'data_dir': tmpdir}\n",
    "    result = mapreduce(LineCountWorker, PathInputData, config)\n",
    "\n",
    "print('There are', result, 'lines')"
   ]
  },
  {
   "cell_type": "markdown",
   "metadata": {
    "colab": {},
    "colab_type": "code",
    "id": "EpNtv2gY0Xyg"
   },
   "source": [
    "## References\n",
    "* [Classmethods are useful for factory](https://realpython.com/instance-class-and-static-methods-demystified/)\n"
   ]
  },
  {
   "cell_type": "code",
   "execution_count": null,
   "metadata": {},
   "outputs": [],
   "source": []
  }
 ],
 "metadata": {
  "colab": {
   "include_colab_link": true,
   "name": "Untitled3.ipynb",
   "provenance": [],
   "version": "0.3.2"
  },
  "kernelspec": {
   "display_name": "Python 3",
   "language": "python",
   "name": "python3"
  },
  "language_info": {
   "codemirror_mode": {
    "name": "ipython",
    "version": 3
   },
   "file_extension": ".py",
   "mimetype": "text/x-python",
   "name": "python",
   "nbconvert_exporter": "python",
   "pygments_lexer": "ipython3",
   "version": "3.6.8"
  }
 },
 "nbformat": 4,
 "nbformat_minor": 1
}
